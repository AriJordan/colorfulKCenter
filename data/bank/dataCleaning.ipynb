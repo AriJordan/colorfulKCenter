{
 "cells": [
  {
   "cell_type": "code",
   "execution_count": null,
   "metadata": {},
   "outputs": [],
   "source": [
    "from numpy import array\n",
    "import pandas as pd"
   ]
  },
  {
   "cell_type": "code",
   "execution_count": null,
   "metadata": {},
   "outputs": [],
   "source": [
    "import random\n",
    "import math"
   ]
  },
  {
   "cell_type": "code",
   "execution_count": null,
   "metadata": {},
   "outputs": [],
   "source": [
    "df = pd.read_csv('bank-full.csv',sep=';', header=None, skiprows=1)\n",
    "df"
   ]
  },
  {
   "cell_type": "code",
   "execution_count": null,
   "metadata": {},
   "outputs": [],
   "source": [
    "newNames = {0: \"age\", 1: \"job\", 3: \"education\", 5: \"balance\", 6: \"housing\", 7: \"loan\", 14: 'previous'}\n",
    "df = df.drop([i for i in range(17) if i not in newNames.keys()], axis=1)\n",
    "df = df.rename(newNames, axis='columns')\n",
    "df = df[df[\"job\"]!=\"unknown\"]\n",
    "df = df[df[\"education\"]!=\"unknown\"]\n",
    "df = df[df[\"previous\"]==0]\n",
    "df = df.drop([\"previous\"], axis=1)"
   ]
  },
  {
   "cell_type": "code",
   "execution_count": null,
   "metadata": {},
   "outputs": [],
   "source": [
    "df.to_csv('clean_bank_data.csv',index=False)"
   ]
  },
  {
   "cell_type": "code",
   "execution_count": null,
   "metadata": {},
   "outputs": [],
   "source": []
  },
  {
   "cell_type": "code",
   "execution_count": null,
   "metadata": {},
   "outputs": [],
   "source": [
    "cdf=pd.read_csv('clean_bank_data.csv')"
   ]
  },
  {
   "cell_type": "code",
   "execution_count": null,
   "metadata": {
    "tags": []
   },
   "outputs": [],
   "source": [
    "minAge = cdf[\"age\"].min()\n",
    "maxAge = cdf[\"age\"].max()\n",
    "diff = maxAge - minAge\n",
    "def rescaleAge(entry):\n",
    "    entry[\"age\"] = 3*(entry[\"age\"]-minAge)/diff\n",
    "    return entry\n",
    "\n",
    "def rescaleBalance(entry):\n",
    "    entry[\"balance\"] = 3 if entry[\"balance\"]<0 else math.log(entry[\"balance\"]+1000,8)\n",
    "    return entry\n",
    "\n",
    "def convertBinary(entry):\n",
    "    entry[\"housing\"] = 0 if entry[\"housing\"]==\"no\" else 1\n",
    "    entry[\"loan\"] = 0 if entry[\"loan\"]==\"no\" else 1\n",
    "    return entry\n",
    "\n",
    "sdf = cdf.apply(rescaleAge, axis=1).apply(rescaleBalance, axis=1).apply(convertBinary,axis=1)"
   ]
  },
  {
   "cell_type": "code",
   "execution_count": null,
   "metadata": {},
   "outputs": [],
   "source": [
    "sdf.to_csv('scaled_bank_data.csv', index=False)"
   ]
  },
  {
   "cell_type": "code",
   "execution_count": null,
   "metadata": {},
   "outputs": [],
   "source": []
  },
  {
   "cell_type": "code",
   "execution_count": null,
   "metadata": {},
   "outputs": [],
   "source": [
    "allData = pd.read_csv('scaled_bank_data.csv')"
   ]
  },
  {
   "cell_type": "code",
   "execution_count": null,
   "metadata": {},
   "outputs": [],
   "source": [
    "selection = random.sample(range(len(allData)),5)"
   ]
  },
  {
   "cell_type": "code",
   "execution_count": null,
   "metadata": {},
   "outputs": [],
   "source": [
    "allData.loc[selection]"
   ]
  },
  {
   "cell_type": "code",
   "execution_count": null,
   "metadata": {},
   "outputs": [],
   "source": []
  },
  {
   "cell_type": "code",
   "execution_count": null,
   "metadata": {},
   "outputs": [],
   "source": [
    "jobs = [\"admin.\",\"unemployed\",\"management\",\"housemaid\",\"entrepreneur\",\"student\",\"blue-collar\",\"self-employed\",\"retired\",\"technician\",\"services\"]\n",
    "education = [\"secondary\",\"primary\",\"tertiary\"]"
   ]
  },
  {
   "cell_type": "code",
   "execution_count": null,
   "metadata": {},
   "outputs": [],
   "source": []
  },
  {
   "cell_type": "code",
   "execution_count": null,
   "metadata": {},
   "outputs": [],
   "source": []
  }
 ],
 "metadata": {
  "kernelspec": {
   "display_name": "Python 3",
   "language": "python",
   "name": "python3"
  },
  "language_info": {
   "codemirror_mode": {
    "name": "ipython",
    "version": 3
   },
   "file_extension": ".py",
   "mimetype": "text/x-python",
   "name": "python",
   "nbconvert_exporter": "python",
   "pygments_lexer": "ipython3",
   "version": "3.8.10"
  }
 },
 "nbformat": 4,
 "nbformat_minor": 4
}
